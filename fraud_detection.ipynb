{
 "cells": [
  {
   "cell_type": "code",
   "execution_count": 3,
   "id": "4f68ecd0",
   "metadata": {},
   "outputs": [],
   "source": [
    "import tensorflow as tf\n",
    "from keras.preprocessing.image import ImageDataGenerator"
   ]
  },
  {
   "cell_type": "code",
   "execution_count": 4,
   "id": "839a7681",
   "metadata": {},
   "outputs": [
    {
     "data": {
      "text/plain": [
       "'2.5.0'"
      ]
     },
     "execution_count": 4,
     "metadata": {},
     "output_type": "execute_result"
    }
   ],
   "source": [
    "tf.__version__"
   ]
  },
  {
   "cell_type": "code",
   "execution_count": 5,
   "id": "15bee4fd",
   "metadata": {},
   "outputs": [
    {
     "name": "stdout",
     "output_type": "stream",
     "text": [
      "Found 949 images belonging to 2 classes.\n"
     ]
    }
   ],
   "source": [
    "train_datagen = ImageDataGenerator(rescale = 1./255,\n",
    "                                   shear_range = 0.2,\n",
    "                                   zoom_range = 0.2,\n",
    "                                   horizontal_flip = True,\n",
    "                                   rotation_range=90,\n",
    "                                   brightness_range=[0.2,1.0]\n",
    "                                  )\n",
    "training_set = train_datagen.flow_from_directory('train_set',\n",
    "                                                 target_size = (64, 64),\n",
    "                                                 batch_size = 32,\n",
    "                                                 class_mode = 'binary')"
   ]
  },
  {
   "cell_type": "code",
   "execution_count": 6,
   "id": "06d8552d",
   "metadata": {},
   "outputs": [
    {
     "name": "stdout",
     "output_type": "stream",
     "text": [
      "Found 258 images belonging to 2 classes.\n"
     ]
    }
   ],
   "source": [
    "test_datagen = ImageDataGenerator(rescale = 1./255)\n",
    "val_set = test_datagen.flow_from_directory('val_set',\n",
    "                                            target_size = (64, 64),\n",
    "                                            batch_size = 32,\n",
    "                                            class_mode = 'binary')"
   ]
  },
  {
   "cell_type": "code",
   "execution_count": 7,
   "id": "f66c4797",
   "metadata": {},
   "outputs": [
    {
     "name": "stdout",
     "output_type": "stream",
     "text": [
      "Found 104 images belonging to 2 classes.\n"
     ]
    }
   ],
   "source": [
    "test_datagen = ImageDataGenerator(rescale = 1./255)\n",
    "test_set = test_datagen.flow_from_directory('test_set',\n",
    "                                            target_size = (64, 64),\n",
    "                                            batch_size = 32,\n",
    "                                            class_mode = 'binary')"
   ]
  },
  {
   "cell_type": "code",
   "execution_count": 8,
   "id": "c0bf73e8",
   "metadata": {},
   "outputs": [],
   "source": [
    "cnn = tf.keras.models.Sequential()\n",
    "cnn.add(tf.keras.layers.Conv2D(filters=32, kernel_size=3, activation='relu', input_shape=[64, 64, 3]))\n",
    "cnn.add(tf.keras.layers.MaxPool2D(pool_size=2, strides=2))\n",
    "cnn.add(tf.keras.layers.Conv2D(filters=32, kernel_size=3, activation='relu'))\n",
    "cnn.add(tf.keras.layers.MaxPool2D(pool_size=2, strides=2))\n",
    "cnn.add(tf.keras.layers.Flatten())\n",
    "cnn.add(tf.keras.layers.Dense(units=128, activation='relu'))\n",
    "cnn.add(tf.keras.layers.Dense(units=1, activation='sigmoid'))"
   ]
  },
  {
   "cell_type": "code",
   "execution_count": 9,
   "id": "8d99d9cd",
   "metadata": {},
   "outputs": [],
   "source": [
    "cnn.compile(optimizer = 'adam', loss = 'binary_crossentropy', metrics = [tf.keras.metrics.AUC()])"
   ]
  },
  {
   "cell_type": "code",
   "execution_count": 10,
   "id": "93a5065d",
   "metadata": {},
   "outputs": [
    {
     "name": "stdout",
     "output_type": "stream",
     "text": [
      "Epoch 1/14\n",
      "30/30 [==============================] - 40s 1s/step - loss: 0.4754 - auc: 0.5308 - val_loss: 0.4606 - val_auc: 0.4323\n",
      "Epoch 2/14\n",
      "30/30 [==============================] - 33s 1s/step - loss: 0.4078 - auc: 0.5971 - val_loss: 0.5597 - val_auc: 0.4795\n",
      "Epoch 3/14\n",
      "30/30 [==============================] - 33s 1s/step - loss: 0.3566 - auc: 0.7169 - val_loss: 0.4660 - val_auc: 0.6000\n",
      "Epoch 4/14\n",
      "30/30 [==============================] - 33s 1s/step - loss: 0.3365 - auc: 0.7434 - val_loss: 0.4112 - val_auc: 0.6901\n",
      "Epoch 5/14\n",
      "30/30 [==============================] - 33s 1s/step - loss: 0.3032 - auc: 0.8074 - val_loss: 0.3626 - val_auc: 0.7984\n",
      "Epoch 6/14\n",
      "30/30 [==============================] - 33s 1s/step - loss: 0.2920 - auc: 0.8286 - val_loss: 0.3312 - val_auc: 0.8351\n",
      "Epoch 7/14\n",
      "30/30 [==============================] - 33s 1s/step - loss: 0.2776 - auc: 0.8462 - val_loss: 0.3089 - val_auc: 0.8778\n",
      "Epoch 8/14\n",
      "30/30 [==============================] - 33s 1s/step - loss: 0.2357 - auc: 0.8920 - val_loss: 0.3106 - val_auc: 0.8918\n",
      "Epoch 9/14\n",
      "30/30 [==============================] - 33s 1s/step - loss: 0.2386 - auc: 0.8957 - val_loss: 0.2522 - val_auc: 0.9197\n",
      "Epoch 10/14\n",
      "30/30 [==============================] - 33s 1s/step - loss: 0.2156 - auc: 0.9245 - val_loss: 0.2393 - val_auc: 0.9319\n",
      "Epoch 11/14\n",
      "30/30 [==============================] - 33s 1s/step - loss: 0.2087 - auc: 0.9226 - val_loss: 0.2338 - val_auc: 0.9335\n",
      "Epoch 12/14\n",
      "30/30 [==============================] - 33s 1s/step - loss: 0.2025 - auc: 0.9286 - val_loss: 0.2630 - val_auc: 0.9265\n",
      "Epoch 13/14\n",
      "30/30 [==============================] - 33s 1s/step - loss: 0.2017 - auc: 0.9312 - val_loss: 0.2299 - val_auc: 0.9383\n",
      "Epoch 14/14\n",
      "30/30 [==============================] - 33s 1s/step - loss: 0.1611 - auc: 0.9640 - val_loss: 0.3931 - val_auc: 0.9403\n"
     ]
    },
    {
     "data": {
      "text/plain": [
       "<tensorflow.python.keras.callbacks.History at 0x2404b1bfa60>"
      ]
     },
     "execution_count": 10,
     "metadata": {},
     "output_type": "execute_result"
    }
   ],
   "source": [
    "cnn.fit(x = training_set, validation_data = val_set, epochs = 14)"
   ]
  },
  {
   "cell_type": "code",
   "execution_count": 11,
   "id": "23e0ea58",
   "metadata": {},
   "outputs": [],
   "source": [
    "# import numpy as np\n",
    "# from keras.preprocessing import image\n",
    "# test_image = image.load_img('single_prediction/3acfd31090a569fb30b4.jpg', target_size = (64, 64))\n",
    "# test_image = image.img_to_array(test_image)\n",
    "# test_image = np.expand_dims(test_image, axis = 0)\n",
    "# result = cnn.predict(test_image)\n",
    "# training_set.class_indices\n",
    "# if result[0][0] == 1:\n",
    "#     prediction = 'real'\n",
    "# else:\n",
    "#     prediction = 'fake'\n",
    "# print(prediction)"
   ]
  },
  {
   "cell_type": "code",
   "execution_count": 12,
   "id": "a8488f6c",
   "metadata": {},
   "outputs": [
    {
     "name": "stdout",
     "output_type": "stream",
     "text": [
      "4/4 [==============================] - 4s 824ms/step - loss: 0.2739 - auc: 0.9872\n",
      "test loss, test AUC: [0.27387523651123047, 0.9871962070465088]\n"
     ]
    }
   ],
   "source": [
    "results = cnn.evaluate(test_set, batch_size=64)\n",
    "print(\"test loss, test AUC:\", results)"
   ]
  },
  {
   "cell_type": "code",
   "execution_count": null,
   "id": "14aa4196",
   "metadata": {},
   "outputs": [],
   "source": []
  }
 ],
 "metadata": {
  "kernelspec": {
   "display_name": "Python 3",
   "language": "python",
   "name": "python3"
  },
  "language_info": {
   "codemirror_mode": {
    "name": "ipython",
    "version": 3
   },
   "file_extension": ".py",
   "mimetype": "text/x-python",
   "name": "python",
   "nbconvert_exporter": "python",
   "pygments_lexer": "ipython3",
   "version": "3.8.8"
  }
 },
 "nbformat": 4,
 "nbformat_minor": 5
}
