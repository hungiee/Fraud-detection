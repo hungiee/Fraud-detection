{
 "cells": [
  {
   "cell_type": "code",
   "execution_count": 2,
   "id": "2bee0417",
   "metadata": {},
   "outputs": [],
   "source": [
    "import tensorflow as tf\n",
    "from keras.preprocessing.image import ImageDataGenerator"
   ]
  },
  {
   "cell_type": "code",
   "execution_count": 3,
   "id": "6e31e3f1",
   "metadata": {},
   "outputs": [
    {
     "data": {
      "text/plain": [
       "'2.5.0'"
      ]
     },
     "execution_count": 3,
     "metadata": {},
     "output_type": "execute_result"
    }
   ],
   "source": [
    "tf.__version__"
   ]
  },
  {
   "cell_type": "code",
   "execution_count": 4,
   "id": "5a894897",
   "metadata": {},
   "outputs": [
    {
     "name": "stdout",
     "output_type": "stream",
     "text": [
      "Found 1116 images belonging to 2 classes.\n"
     ]
    }
   ],
   "source": [
    "train_datagen = ImageDataGenerator(rescale = 1./255,\n",
    "                                   shear_range = 0.2,\n",
    "                                   zoom_range = 0.2,\n",
    "                                   horizontal_flip = True)\n",
    "training_set = train_datagen.flow_from_directory('train_set',\n",
    "                                                 target_size = (64, 64),\n",
    "                                                 batch_size = 32,\n",
    "                                                 class_mode = 'binary')"
   ]
  },
  {
   "cell_type": "code",
   "execution_count": 5,
   "id": "9e94560a",
   "metadata": {},
   "outputs": [
    {
     "name": "stdout",
     "output_type": "stream",
     "text": [
      "Found 282 images belonging to 2 classes.\n"
     ]
    }
   ],
   "source": [
    "test_datagen = ImageDataGenerator(rescale = 1./255)\n",
    "test_set = test_datagen.flow_from_directory('test_set',\n",
    "                                            target_size = (64, 64),\n",
    "                                            batch_size = 32,\n",
    "                                            class_mode = 'binary')"
   ]
  },
  {
   "cell_type": "code",
   "execution_count": 6,
   "id": "7a1cf35a",
   "metadata": {},
   "outputs": [],
   "source": [
    "cnn = tf.keras.models.Sequential()\n",
    "cnn.add(tf.keras.layers.Conv2D(filters=32, kernel_size=3, activation='relu', input_shape=[64, 64, 3]))\n",
    "cnn.add(tf.keras.layers.MaxPool2D(pool_size=2, strides=2))\n",
    "cnn.add(tf.keras.layers.Conv2D(filters=32, kernel_size=3, activation='relu'))\n",
    "cnn.add(tf.keras.layers.MaxPool2D(pool_size=2, strides=2))\n",
    "cnn.add(tf.keras.layers.Flatten())\n",
    "cnn.add(tf.keras.layers.Dense(units=128, activation='relu'))\n",
    "cnn.add(tf.keras.layers.Dense(units=1, activation='sigmoid'))"
   ]
  },
  {
   "cell_type": "code",
   "execution_count": 7,
   "id": "f1643221",
   "metadata": {},
   "outputs": [],
   "source": [
    "cnn.compile(optimizer = 'adam', loss = 'binary_crossentropy', metrics = ['accuracy'])"
   ]
  },
  {
   "cell_type": "code",
   "execution_count": 8,
   "id": "97e733a3",
   "metadata": {},
   "outputs": [
    {
     "name": "stdout",
     "output_type": "stream",
     "text": [
      "Epoch 1/25\n",
      "35/35 [==============================] - 36s 1s/step - loss: 0.3270 - accuracy: 0.8961 - val_loss: 0.2795 - val_accuracy: 0.9220\n",
      "Epoch 2/25\n",
      "35/35 [==============================] - 35s 990ms/step - loss: 0.2635 - accuracy: 0.9229 - val_loss: 0.2410 - val_accuracy: 0.9220\n",
      "Epoch 3/25\n",
      "35/35 [==============================] - 35s 995ms/step - loss: 0.2113 - accuracy: 0.9274 - val_loss: 0.2075 - val_accuracy: 0.9220\n",
      "Epoch 4/25\n",
      "35/35 [==============================] - 35s 998ms/step - loss: 0.1947 - accuracy: 0.9391 - val_loss: 0.2012 - val_accuracy: 0.9574\n",
      "Epoch 5/25\n",
      "35/35 [==============================] - 35s 1s/step - loss: 0.1469 - accuracy: 0.9471 - val_loss: 0.1135 - val_accuracy: 0.9645\n",
      "Epoch 6/25\n",
      "35/35 [==============================] - 35s 992ms/step - loss: 0.1213 - accuracy: 0.9579 - val_loss: 0.1192 - val_accuracy: 0.9716\n",
      "Epoch 7/25\n",
      "35/35 [==============================] - 35s 993ms/step - loss: 0.1150 - accuracy: 0.9633 - val_loss: 0.1051 - val_accuracy: 0.9716\n",
      "Epoch 8/25\n",
      "35/35 [==============================] - 35s 994ms/step - loss: 0.1048 - accuracy: 0.9615 - val_loss: 0.1156 - val_accuracy: 0.9610\n",
      "Epoch 9/25\n",
      "35/35 [==============================] - 35s 997ms/step - loss: 0.1309 - accuracy: 0.9651 - val_loss: 0.1086 - val_accuracy: 0.9752\n",
      "Epoch 10/25\n",
      "35/35 [==============================] - 35s 1000ms/step - loss: 0.1038 - accuracy: 0.9659 - val_loss: 0.0923 - val_accuracy: 0.9645\n",
      "Epoch 11/25\n",
      "35/35 [==============================] - 35s 990ms/step - loss: 0.1182 - accuracy: 0.9615 - val_loss: 0.1257 - val_accuracy: 0.9504\n",
      "Epoch 12/25\n",
      "35/35 [==============================] - 35s 999ms/step - loss: 0.1111 - accuracy: 0.9606 - val_loss: 0.1121 - val_accuracy: 0.9574\n",
      "Epoch 13/25\n",
      "35/35 [==============================] - 35s 993ms/step - loss: 0.0939 - accuracy: 0.9659 - val_loss: 0.0958 - val_accuracy: 0.9716\n",
      "Epoch 14/25\n",
      "35/35 [==============================] - 35s 995ms/step - loss: 0.0734 - accuracy: 0.9749 - val_loss: 0.1187 - val_accuracy: 0.9610\n",
      "Epoch 15/25\n",
      "35/35 [==============================] - 34s 979ms/step - loss: 0.0621 - accuracy: 0.9740 - val_loss: 0.1077 - val_accuracy: 0.9610\n",
      "Epoch 16/25\n",
      "35/35 [==============================] - 34s 983ms/step - loss: 0.0646 - accuracy: 0.9767 - val_loss: 0.1334 - val_accuracy: 0.9397\n",
      "Epoch 17/25\n",
      "35/35 [==============================] - 34s 988ms/step - loss: 0.0727 - accuracy: 0.9749 - val_loss: 0.1290 - val_accuracy: 0.9504\n",
      "Epoch 18/25\n",
      "35/35 [==============================] - 34s 988ms/step - loss: 0.0660 - accuracy: 0.9722 - val_loss: 0.1084 - val_accuracy: 0.9610\n",
      "Epoch 19/25\n",
      "35/35 [==============================] - 34s 984ms/step - loss: 0.0689 - accuracy: 0.9731 - val_loss: 0.0868 - val_accuracy: 0.9716\n",
      "Epoch 20/25\n",
      "35/35 [==============================] - 34s 985ms/step - loss: 0.0800 - accuracy: 0.9695 - val_loss: 0.0754 - val_accuracy: 0.9716\n",
      "Epoch 21/25\n",
      "35/35 [==============================] - 34s 993ms/step - loss: 0.0528 - accuracy: 0.9839 - val_loss: 0.0815 - val_accuracy: 0.9716\n",
      "Epoch 22/25\n",
      "35/35 [==============================] - 35s 1s/step - loss: 0.0639 - accuracy: 0.9758 - val_loss: 0.0952 - val_accuracy: 0.9716\n",
      "Epoch 23/25\n",
      "35/35 [==============================] - 34s 994ms/step - loss: 0.0605 - accuracy: 0.9767 - val_loss: 0.0837 - val_accuracy: 0.9752\n",
      "Epoch 24/25\n",
      "35/35 [==============================] - 35s 992ms/step - loss: 0.0525 - accuracy: 0.9794 - val_loss: 0.1164 - val_accuracy: 0.9574\n",
      "Epoch 25/25\n",
      "35/35 [==============================] - 35s 991ms/step - loss: 0.0519 - accuracy: 0.9839 - val_loss: 0.1838 - val_accuracy: 0.9255\n"
     ]
    },
    {
     "data": {
      "text/plain": [
       "<tensorflow.python.keras.callbacks.History at 0x19aa3c730a0>"
      ]
     },
     "execution_count": 8,
     "metadata": {},
     "output_type": "execute_result"
    }
   ],
   "source": [
    "cnn.fit(x = training_set, validation_data = test_set, epochs = 25)"
   ]
  },
  {
   "cell_type": "code",
   "execution_count": 25,
   "id": "d06f561b",
   "metadata": {},
   "outputs": [
    {
     "name": "stdout",
     "output_type": "stream",
     "text": [
      "real\n"
     ]
    }
   ],
   "source": [
    "import numpy as np\n",
    "from keras.preprocessing import image\n",
    "test_image = image.load_img('single_prediction/5df2054250e1a9bff0f0.jpg', target_size = (64, 64))\n",
    "test_image = image.img_to_array(test_image)\n",
    "test_image = np.expand_dims(test_image, axis = 0)\n",
    "result = cnn.predict(test_image)\n",
    "training_set.class_indices\n",
    "if result[0][0] == 1:\n",
    "  prediction = 'real'\n",
    "else:\n",
    "  prediction = 'fake'\n",
    "print(prediction)"
   ]
  }
 ],
 "metadata": {
  "kernelspec": {
   "display_name": "Python 3",
   "language": "python",
   "name": "python3"
  },
  "language_info": {
   "codemirror_mode": {
    "name": "ipython",
    "version": 3
   },
   "file_extension": ".py",
   "mimetype": "text/x-python",
   "name": "python",
   "nbconvert_exporter": "python",
   "pygments_lexer": "ipython3",
   "version": "3.8.8"
  }
 },
 "nbformat": 4,
 "nbformat_minor": 5
}
